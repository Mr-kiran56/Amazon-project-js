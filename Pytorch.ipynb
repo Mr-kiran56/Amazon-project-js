{
  "nbformat": 4,
  "nbformat_minor": 0,
  "metadata": {
    "colab": {
      "provenance": [],
      "gpuType": "T4",
      "authorship_tag": "ABX9TyOblp2sXSwji0oNvxsRk/lk",
      "include_colab_link": true
    },
    "kernelspec": {
      "name": "python3",
      "display_name": "Python 3"
    },
    "language_info": {
      "name": "python"
    },
    "accelerator": "GPU"
  },
  "cells": [
    {
      "cell_type": "markdown",
      "metadata": {
        "id": "view-in-github",
        "colab_type": "text"
      },
      "source": [
        "<a href=\"https://colab.research.google.com/github/Mr-kiran56/Amazon-project-js/blob/main/Pytorch.ipynb\" target=\"_parent\"><img src=\"https://colab.research.google.com/assets/colab-badge.svg\" alt=\"Open In Colab\"/></a>"
      ]
    },
    {
      "cell_type": "code",
      "execution_count": null,
      "metadata": {
        "colab": {
          "base_uri": "https://localhost:8080/",
          "height": 36
        },
        "id": "C97agavoPCwY",
        "outputId": "edaf0442-f155-48ba-c0cd-997d9e844804"
      },
      "outputs": [
        {
          "output_type": "execute_result",
          "data": {
            "text/plain": [
              "'2.6.0+cu124'"
            ],
            "application/vnd.google.colaboratory.intrinsic+json": {
              "type": "string"
            }
          },
          "metadata": {},
          "execution_count": 58
        }
      ],
      "source": [
        "import torch\n",
        "torch.__version__"
      ]
    },
    {
      "cell_type": "code",
      "source": [
        "scaler=torch.tensor(8)\n",
        "scaler"
      ],
      "metadata": {
        "colab": {
          "base_uri": "https://localhost:8080/"
        },
        "id": "_HPC1Vu4PF3N",
        "outputId": "efd71fe9-29ee-4af0-cdcf-22f29f6127fb"
      },
      "execution_count": null,
      "outputs": [
        {
          "output_type": "execute_result",
          "data": {
            "text/plain": [
              "tensor(8)"
            ]
          },
          "metadata": {},
          "execution_count": 59
        }
      ]
    },
    {
      "cell_type": "code",
      "source": [
        "scaler.ndim,scaler.item(),scaler.shape"
      ],
      "metadata": {
        "colab": {
          "base_uri": "https://localhost:8080/"
        },
        "id": "OOAzMFtQPF6Q",
        "outputId": "44956b24-3f5d-4dd5-8aa1-cb182d1bb4a5"
      },
      "execution_count": null,
      "outputs": [
        {
          "output_type": "execute_result",
          "data": {
            "text/plain": [
              "(0, 8, torch.Size([]))"
            ]
          },
          "metadata": {},
          "execution_count": 60
        }
      ]
    },
    {
      "cell_type": "code",
      "source": [
        "vec=torch.tensor([1,2])\n",
        "vec"
      ],
      "metadata": {
        "colab": {
          "base_uri": "https://localhost:8080/"
        },
        "id": "0IY7ajewPF87",
        "outputId": "efbfc2ca-9182-49c5-cfa7-0a95fbc757c4"
      },
      "execution_count": null,
      "outputs": [
        {
          "output_type": "execute_result",
          "data": {
            "text/plain": [
              "tensor([1, 2])"
            ]
          },
          "metadata": {},
          "execution_count": 61
        }
      ]
    },
    {
      "cell_type": "code",
      "source": [
        "vec.shape"
      ],
      "metadata": {
        "colab": {
          "base_uri": "https://localhost:8080/"
        },
        "id": "I2tEqqBIPGAI",
        "outputId": "8a4a9ff4-02b2-4119-e8a1-6bf6581c3ef4"
      },
      "execution_count": null,
      "outputs": [
        {
          "output_type": "execute_result",
          "data": {
            "text/plain": [
              "torch.Size([2])"
            ]
          },
          "metadata": {},
          "execution_count": 62
        }
      ]
    },
    {
      "cell_type": "code",
      "source": [
        "vec.ndim"
      ],
      "metadata": {
        "colab": {
          "base_uri": "https://localhost:8080/"
        },
        "id": "xKb5wY5lPGCI",
        "outputId": "cca54058-c96b-47aa-9904-941c718f98c0"
      },
      "execution_count": null,
      "outputs": [
        {
          "output_type": "execute_result",
          "data": {
            "text/plain": [
              "1"
            ]
          },
          "metadata": {},
          "execution_count": 63
        }
      ]
    },
    {
      "cell_type": "code",
      "source": [
        "vec.dtype"
      ],
      "metadata": {
        "colab": {
          "base_uri": "https://localhost:8080/"
        },
        "id": "Z_kZ_ui9PGE6",
        "outputId": "0f28a93e-07ed-4805-aac1-a951fe6f6385"
      },
      "execution_count": null,
      "outputs": [
        {
          "output_type": "execute_result",
          "data": {
            "text/plain": [
              "torch.int64"
            ]
          },
          "metadata": {},
          "execution_count": 64
        }
      ]
    },
    {
      "cell_type": "code",
      "source": [
        "MATRIX=torch.tensor([[1,2],[3,4]])\n",
        "MATRIX"
      ],
      "metadata": {
        "colab": {
          "base_uri": "https://localhost:8080/"
        },
        "id": "vyCRErvKPGJU",
        "outputId": "f09a9b7c-fba5-4343-9eba-7827201b5ed1"
      },
      "execution_count": null,
      "outputs": [
        {
          "output_type": "execute_result",
          "data": {
            "text/plain": [
              "tensor([[1, 2],\n",
              "        [3, 4]])"
            ]
          },
          "metadata": {},
          "execution_count": 65
        }
      ]
    },
    {
      "cell_type": "code",
      "source": [
        "MATRIX.shape"
      ],
      "metadata": {
        "colab": {
          "base_uri": "https://localhost:8080/"
        },
        "id": "ANnp1x7iPGKu",
        "outputId": "e9921db1-cc98-48b8-a775-dbfc277c57b0"
      },
      "execution_count": null,
      "outputs": [
        {
          "output_type": "execute_result",
          "data": {
            "text/plain": [
              "torch.Size([2, 2])"
            ]
          },
          "metadata": {},
          "execution_count": 66
        }
      ]
    },
    {
      "cell_type": "code",
      "source": [
        "MATRIX.ndim"
      ],
      "metadata": {
        "colab": {
          "base_uri": "https://localhost:8080/"
        },
        "id": "Zye70X2BPGM9",
        "outputId": "659caa56-4c3c-4bae-e9e6-2e420f4b5caa"
      },
      "execution_count": null,
      "outputs": [
        {
          "output_type": "execute_result",
          "data": {
            "text/plain": [
              "2"
            ]
          },
          "metadata": {},
          "execution_count": 67
        }
      ]
    },
    {
      "cell_type": "code",
      "source": [
        "MATRIX[0][1]"
      ],
      "metadata": {
        "colab": {
          "base_uri": "https://localhost:8080/"
        },
        "id": "x-IJ1Op2PGPz",
        "outputId": "a373b7a9-a846-4345-c062-4376b0630c3a"
      },
      "execution_count": null,
      "outputs": [
        {
          "output_type": "execute_result",
          "data": {
            "text/plain": [
              "tensor(2)"
            ]
          },
          "metadata": {},
          "execution_count": 68
        }
      ]
    },
    {
      "cell_type": "code",
      "source": [
        "randnums=torch.rand(3,3)\n",
        "randnums"
      ],
      "metadata": {
        "colab": {
          "base_uri": "https://localhost:8080/"
        },
        "id": "-so8ktqfPGU4",
        "outputId": "dfa4204b-07e9-4a68-d27c-40527207a978"
      },
      "execution_count": null,
      "outputs": [
        {
          "output_type": "execute_result",
          "data": {
            "text/plain": [
              "tensor([[0.6343, 0.3644, 0.7104],\n",
              "        [0.9464, 0.7890, 0.2814],\n",
              "        [0.7886, 0.5895, 0.7539]])"
            ]
          },
          "metadata": {},
          "execution_count": 69
        }
      ]
    },
    {
      "cell_type": "code",
      "source": [
        "randnums.shape,randnums.ndim"
      ],
      "metadata": {
        "colab": {
          "base_uri": "https://localhost:8080/"
        },
        "id": "4dBYK2f9PGXi",
        "outputId": "e90b7aa5-ec82-4792-9bac-0c5c026d6f2f"
      },
      "execution_count": null,
      "outputs": [
        {
          "output_type": "execute_result",
          "data": {
            "text/plain": [
              "(torch.Size([3, 3]), 2)"
            ]
          },
          "metadata": {},
          "execution_count": 70
        }
      ]
    },
    {
      "cell_type": "code",
      "source": [
        "zeros=torch.zeros((3,4),dtype=float)\n",
        "zeros"
      ],
      "metadata": {
        "colab": {
          "base_uri": "https://localhost:8080/"
        },
        "id": "5VZWrY4cPGZz",
        "outputId": "f53102aa-e519-451a-a641-6768aa4af403"
      },
      "execution_count": null,
      "outputs": [
        {
          "output_type": "execute_result",
          "data": {
            "text/plain": [
              "tensor([[0., 0., 0., 0.],\n",
              "        [0., 0., 0., 0.],\n",
              "        [0., 0., 0., 0.]], dtype=torch.float64)"
            ]
          },
          "metadata": {},
          "execution_count": 71
        }
      ]
    },
    {
      "cell_type": "code",
      "source": [
        "ones=torch.ones((2,3),dtype=int)\n",
        "ones"
      ],
      "metadata": {
        "colab": {
          "base_uri": "https://localhost:8080/"
        },
        "id": "B7gbB7_BPGe0",
        "outputId": "24787709-fa2d-43a6-ca3e-e4c845eed3db"
      },
      "execution_count": null,
      "outputs": [
        {
          "output_type": "execute_result",
          "data": {
            "text/plain": [
              "tensor([[1, 1, 1],\n",
              "        [1, 1, 1]])"
            ]
          },
          "metadata": {},
          "execution_count": 72
        }
      ]
    },
    {
      "cell_type": "code",
      "source": [
        "ones.shape,ones.ndim"
      ],
      "metadata": {
        "colab": {
          "base_uri": "https://localhost:8080/"
        },
        "id": "_WEqW8f_PGkB",
        "outputId": "33fce505-6f2d-4e1c-91a4-a2b651d44d23"
      },
      "execution_count": null,
      "outputs": [
        {
          "output_type": "execute_result",
          "data": {
            "text/plain": [
              "(torch.Size([2, 3]), 2)"
            ]
          },
          "metadata": {},
          "execution_count": 73
        }
      ]
    },
    {
      "cell_type": "code",
      "source": [
        "arnage_fun=torch.arange(0,11,2)\n",
        "arnage_fun"
      ],
      "metadata": {
        "colab": {
          "base_uri": "https://localhost:8080/"
        },
        "id": "IDcOOVC7PGm2",
        "outputId": "435978d1-e689-4b6d-a2e8-c871cc78c860"
      },
      "execution_count": null,
      "outputs": [
        {
          "output_type": "execute_result",
          "data": {
            "text/plain": [
              "tensor([ 0,  2,  4,  6,  8, 10])"
            ]
          },
          "metadata": {},
          "execution_count": 74
        }
      ]
    },
    {
      "cell_type": "code",
      "source": [
        "arnage_fun.shape,arnage_fun.ndim"
      ],
      "metadata": {
        "colab": {
          "base_uri": "https://localhost:8080/"
        },
        "id": "p8RbOP9zPGpP",
        "outputId": "368df1d5-6739-4de4-9bd7-dbc93a500c1c"
      },
      "execution_count": null,
      "outputs": [
        {
          "output_type": "execute_result",
          "data": {
            "text/plain": [
              "(torch.Size([6]), 1)"
            ]
          },
          "metadata": {},
          "execution_count": 75
        }
      ]
    },
    {
      "cell_type": "code",
      "source": [
        "!nvidia-smi"
      ],
      "metadata": {
        "id": "nLT3Bo9SPGsn",
        "colab": {
          "base_uri": "https://localhost:8080/"
        },
        "outputId": "de32100d-2250-4d00-c12b-0337b636daf7"
      },
      "execution_count": null,
      "outputs": [
        {
          "output_type": "stream",
          "name": "stdout",
          "text": [
            "Tue Jul 15 16:14:48 2025       \n",
            "+-----------------------------------------------------------------------------------------+\n",
            "| NVIDIA-SMI 550.54.15              Driver Version: 550.54.15      CUDA Version: 12.4     |\n",
            "|-----------------------------------------+------------------------+----------------------+\n",
            "| GPU  Name                 Persistence-M | Bus-Id          Disp.A | Volatile Uncorr. ECC |\n",
            "| Fan  Temp   Perf          Pwr:Usage/Cap |           Memory-Usage | GPU-Util  Compute M. |\n",
            "|                                         |                        |               MIG M. |\n",
            "|=========================================+========================+======================|\n",
            "|   0  Tesla T4                       Off |   00000000:00:04.0 Off |                    0 |\n",
            "| N/A   44C    P0             27W /   70W |     120MiB /  15360MiB |      0%      Default |\n",
            "|                                         |                        |                  N/A |\n",
            "+-----------------------------------------+------------------------+----------------------+\n",
            "                                                                                         \n",
            "+-----------------------------------------------------------------------------------------+\n",
            "| Processes:                                                                              |\n",
            "|  GPU   GI   CI        PID   Type   Process name                              GPU Memory |\n",
            "|        ID   ID                                                               Usage      |\n",
            "|=========================================================================================|\n",
            "+-----------------------------------------------------------------------------------------+\n"
          ]
        }
      ]
    },
    {
      "cell_type": "code",
      "source": [
        "import torch\n",
        "torch.cuda.is_available()\n",
        "torch.cuda.device_count()\n",
        "tensor=torch.tensor([1,2,3])\n",
        "tensor.device"
      ],
      "metadata": {
        "colab": {
          "base_uri": "https://localhost:8080/"
        },
        "id": "HrQ6atX0h11y",
        "outputId": "98732083-2077-4a16-dd6f-317fd7699f9d"
      },
      "execution_count": null,
      "outputs": [
        {
          "output_type": "execute_result",
          "data": {
            "text/plain": [
              "device(type='cpu')"
            ]
          },
          "metadata": {},
          "execution_count": 77
        }
      ]
    },
    {
      "cell_type": "code",
      "source": [
        "tenser_gpu=tensor.to(\"cuda\")\n",
        "tenser_gpu"
      ],
      "metadata": {
        "colab": {
          "base_uri": "https://localhost:8080/"
        },
        "id": "CZupNan1h2hZ",
        "outputId": "9287d817-d731-4484-a588-17167e61385d"
      },
      "execution_count": null,
      "outputs": [
        {
          "output_type": "execute_result",
          "data": {
            "text/plain": [
              "tensor([1, 2, 3], device='cuda:0')"
            ]
          },
          "metadata": {},
          "execution_count": 78
        }
      ]
    },
    {
      "cell_type": "code",
      "source": [
        "tenser_cpu=tenser_gpu.cpu().numpy()\n",
        "tenser_cpu"
      ],
      "metadata": {
        "colab": {
          "base_uri": "https://localhost:8080/"
        },
        "id": "09cd_SN6h2kT",
        "outputId": "5b63fe67-a86e-4447-83a7-1b48da22b84a"
      },
      "execution_count": null,
      "outputs": [
        {
          "output_type": "execute_result",
          "data": {
            "text/plain": [
              "array([1, 2, 3])"
            ]
          },
          "metadata": {},
          "execution_count": 79
        }
      ]
    },
    {
      "cell_type": "code",
      "source": [
        "tenser_cpu.device"
      ],
      "metadata": {
        "colab": {
          "base_uri": "https://localhost:8080/",
          "height": 36
        },
        "id": "kXPo9F9wh2m_",
        "outputId": "85092c7a-6f2d-4e1d-ae26-973f2e7bf8b1"
      },
      "execution_count": null,
      "outputs": [
        {
          "output_type": "execute_result",
          "data": {
            "text/plain": [
              "'cpu'"
            ],
            "application/vnd.google.colaboratory.intrinsic+json": {
              "type": "string"
            }
          },
          "metadata": {},
          "execution_count": 80
        }
      ]
    },
    {
      "cell_type": "code",
      "source": [
        "%time\n",
        "tenser_gpu"
      ],
      "metadata": {
        "colab": {
          "base_uri": "https://localhost:8080/"
        },
        "id": "-RiAK9aDh2pn",
        "outputId": "b05554a5-21b3-4ad7-c8bc-29db9ba7680f"
      },
      "execution_count": null,
      "outputs": [
        {
          "output_type": "stream",
          "name": "stdout",
          "text": [
            "CPU times: user 4 µs, sys: 0 ns, total: 4 µs\n",
            "Wall time: 8.11 µs\n"
          ]
        },
        {
          "output_type": "execute_result",
          "data": {
            "text/plain": [
              "tensor([1, 2, 3], device='cuda:0')"
            ]
          },
          "metadata": {},
          "execution_count": 81
        }
      ]
    },
    {
      "cell_type": "code",
      "source": [
        "%time\n",
        "tenser_cpu"
      ],
      "metadata": {
        "colab": {
          "base_uri": "https://localhost:8080/"
        },
        "id": "woOQuqUkh2sF",
        "outputId": "3f9a44ae-22cb-4e09-bded-c23528224db1"
      },
      "execution_count": null,
      "outputs": [
        {
          "output_type": "stream",
          "name": "stdout",
          "text": [
            "CPU times: user 3 µs, sys: 0 ns, total: 3 µs\n",
            "Wall time: 6.2 µs\n"
          ]
        },
        {
          "output_type": "execute_result",
          "data": {
            "text/plain": [
              "array([1, 2, 3])"
            ]
          },
          "metadata": {},
          "execution_count": 82
        }
      ]
    },
    {
      "cell_type": "code",
      "source": [
        "\n",
        "rand_tensor=torch.rand(3,3,3)\n",
        "rand_tensor\n",
        "\n",
        "\n",
        "\n",
        "\n"
      ],
      "metadata": {
        "colab": {
          "base_uri": "https://localhost:8080/"
        },
        "id": "Lv8ibCgdh2uF",
        "outputId": "3e38e122-7e1f-4a3a-8a9c-40242c517996"
      },
      "execution_count": null,
      "outputs": [
        {
          "output_type": "execute_result",
          "data": {
            "text/plain": [
              "tensor([[[0.1952, 0.0050, 0.3068],\n",
              "         [0.1165, 0.9103, 0.6440],\n",
              "         [0.7071, 0.6581, 0.4913]],\n",
              "\n",
              "        [[0.8913, 0.1447, 0.5315],\n",
              "         [0.1587, 0.6542, 0.3278],\n",
              "         [0.6532, 0.3958, 0.9147]],\n",
              "\n",
              "        [[0.2036, 0.2018, 0.2018],\n",
              "         [0.9497, 0.6666, 0.9811],\n",
              "         [0.0874, 0.0041, 0.1088]]])"
            ]
          },
          "metadata": {},
          "execution_count": 83
        }
      ]
    },
    {
      "cell_type": "code",
      "source": [
        "import torch"
      ],
      "metadata": {
        "id": "XgSiqPtaj9Qk"
      },
      "execution_count": null,
      "outputs": []
    },
    {
      "cell_type": "code",
      "source": [
        "data=torch.tensor([1,2,3])\n",
        "data"
      ],
      "metadata": {
        "id": "JnfF7AILj9Ti",
        "colab": {
          "base_uri": "https://localhost:8080/"
        },
        "outputId": "309dfe5b-5045-4775-98be-c73b827d3b40"
      },
      "execution_count": null,
      "outputs": [
        {
          "output_type": "execute_result",
          "data": {
            "text/plain": [
              "tensor([1, 2, 3])"
            ]
          },
          "metadata": {},
          "execution_count": 85
        }
      ]
    },
    {
      "cell_type": "code",
      "source": [
        "data=torch.tensor([1,2,3]).to('cuda')\n",
        "data"
      ],
      "metadata": {
        "id": "9DKFjQfuj9Wp",
        "colab": {
          "base_uri": "https://localhost:8080/"
        },
        "outputId": "a1b6289e-e108-49d6-844b-9e44b932b541"
      },
      "execution_count": null,
      "outputs": [
        {
          "output_type": "execute_result",
          "data": {
            "text/plain": [
              "tensor([1, 2, 3], device='cuda:0')"
            ]
          },
          "metadata": {},
          "execution_count": 86
        }
      ]
    },
    {
      "cell_type": "code",
      "source": [
        "data.device"
      ],
      "metadata": {
        "id": "8UjZUOrvj9ds",
        "colab": {
          "base_uri": "https://localhost:8080/"
        },
        "outputId": "dc73323c-038b-4a06-cce4-e317e51e02d6"
      },
      "execution_count": null,
      "outputs": [
        {
          "output_type": "execute_result",
          "data": {
            "text/plain": [
              "device(type='cuda', index=0)"
            ]
          },
          "metadata": {},
          "execution_count": 87
        }
      ]
    },
    {
      "cell_type": "code",
      "source": [
        "data+10"
      ],
      "metadata": {
        "id": "089gl2jvj9gO",
        "colab": {
          "base_uri": "https://localhost:8080/"
        },
        "outputId": "95b6c782-3b32-4869-927e-24e1f1fe2808"
      },
      "execution_count": null,
      "outputs": [
        {
          "output_type": "execute_result",
          "data": {
            "text/plain": [
              "tensor([11, 12, 13], device='cuda:0')"
            ]
          },
          "metadata": {},
          "execution_count": 88
        }
      ]
    },
    {
      "cell_type": "code",
      "source": [
        "data=data+10\n",
        "data\n"
      ],
      "metadata": {
        "id": "EEiMXKeYj9im",
        "colab": {
          "base_uri": "https://localhost:8080/"
        },
        "outputId": "c9a0bef6-8eb6-4e21-db27-4ed77a7dcdbe"
      },
      "execution_count": null,
      "outputs": [
        {
          "output_type": "execute_result",
          "data": {
            "text/plain": [
              "tensor([11, 12, 13], device='cuda:0')"
            ]
          },
          "metadata": {},
          "execution_count": 89
        }
      ]
    },
    {
      "cell_type": "code",
      "source": [
        "data-10"
      ],
      "metadata": {
        "id": "modmj5sIj9lT",
        "colab": {
          "base_uri": "https://localhost:8080/"
        },
        "outputId": "899bf82f-b168-42d0-a6bd-99c2f4d24547"
      },
      "execution_count": null,
      "outputs": [
        {
          "output_type": "execute_result",
          "data": {
            "text/plain": [
              "tensor([1, 2, 3], device='cuda:0')"
            ]
          },
          "metadata": {},
          "execution_count": 90
        }
      ]
    },
    {
      "cell_type": "code",
      "source": [
        "data=data-10\n",
        "data"
      ],
      "metadata": {
        "id": "WgBtZw8Bj9oL",
        "colab": {
          "base_uri": "https://localhost:8080/"
        },
        "outputId": "bc4cd46b-bf1d-49f7-a0f4-d6feb831fa0d"
      },
      "execution_count": null,
      "outputs": [
        {
          "output_type": "execute_result",
          "data": {
            "text/plain": [
              "tensor([1, 2, 3], device='cuda:0')"
            ]
          },
          "metadata": {},
          "execution_count": 91
        }
      ]
    },
    {
      "cell_type": "code",
      "source": [
        "data=torch.abs(data.type(torch.long))*5\n",
        "data"
      ],
      "metadata": {
        "id": "gis3-Cxij9q8",
        "colab": {
          "base_uri": "https://localhost:8080/"
        },
        "outputId": "04254132-88a6-4ef4-cf78-12f2c6de2515"
      },
      "execution_count": null,
      "outputs": [
        {
          "output_type": "execute_result",
          "data": {
            "text/plain": [
              "tensor([ 5, 10, 15], device='cuda:0')"
            ]
          },
          "metadata": {},
          "execution_count": 92
        }
      ]
    },
    {
      "cell_type": "code",
      "source": [],
      "metadata": {
        "id": "B2GOGwSej9tl"
      },
      "execution_count": null,
      "outputs": []
    },
    {
      "cell_type": "code",
      "source": [
        "data=torch.tensor([1,2,3])\n",
        "data"
      ],
      "metadata": {
        "colab": {
          "base_uri": "https://localhost:8080/"
        },
        "id": "IyCOvxgxjHoz",
        "outputId": "f5416bae-90d4-4646-f651-a82527efdc29"
      },
      "execution_count": null,
      "outputs": [
        {
          "output_type": "execute_result",
          "data": {
            "text/plain": [
              "tensor([1, 2, 3])"
            ]
          },
          "metadata": {},
          "execution_count": 93
        }
      ]
    },
    {
      "cell_type": "code",
      "source": [
        "newdata=data*data\n",
        "newdata"
      ],
      "metadata": {
        "id": "2FHQXdSxj9wu",
        "colab": {
          "base_uri": "https://localhost:8080/"
        },
        "outputId": "4992c4c6-4e75-48c8-b411-84e1ddb6e80a"
      },
      "execution_count": null,
      "outputs": [
        {
          "output_type": "execute_result",
          "data": {
            "text/plain": [
              "tensor([1, 4, 9])"
            ]
          },
          "metadata": {},
          "execution_count": 94
        }
      ]
    },
    {
      "cell_type": "code",
      "source": [
        "data"
      ],
      "metadata": {
        "id": "orUFLXQij90k",
        "colab": {
          "base_uri": "https://localhost:8080/"
        },
        "outputId": "88a6c5ab-c02c-49c3-ff70-ea9cbdacc29d"
      },
      "execution_count": null,
      "outputs": [
        {
          "output_type": "execute_result",
          "data": {
            "text/plain": [
              "tensor([1, 2, 3])"
            ]
          },
          "metadata": {},
          "execution_count": 95
        }
      ]
    },
    {
      "cell_type": "code",
      "source": [
        "data=torch.matmul(data,data)\n",
        "data"
      ],
      "metadata": {
        "id": "22PgizcSj930",
        "colab": {
          "base_uri": "https://localhost:8080/"
        },
        "outputId": "e8a226f7-45b1-4bbb-804f-59a9c9bee6be"
      },
      "execution_count": null,
      "outputs": [
        {
          "output_type": "execute_result",
          "data": {
            "text/plain": [
              "tensor(14)"
            ]
          },
          "metadata": {},
          "execution_count": 96
        }
      ]
    },
    {
      "cell_type": "code",
      "source": [
        "data"
      ],
      "metadata": {
        "id": "ZpJQ-D6ij96R",
        "colab": {
          "base_uri": "https://localhost:8080/"
        },
        "outputId": "5d4187ce-492c-45f2-9f8c-05c6f46c5861"
      },
      "execution_count": null,
      "outputs": [
        {
          "output_type": "execute_result",
          "data": {
            "text/plain": [
              "tensor(14)"
            ]
          },
          "metadata": {},
          "execution_count": 97
        }
      ]
    },
    {
      "cell_type": "code",
      "source": [
        "newshort=torch.tensor([1,2,3])\n",
        "newshort"
      ],
      "metadata": {
        "id": "bYVrqT1Wj98D",
        "colab": {
          "base_uri": "https://localhost:8080/"
        },
        "outputId": "fd821162-90ba-4a10-800b-a372497cc7e0"
      },
      "execution_count": null,
      "outputs": [
        {
          "output_type": "execute_result",
          "data": {
            "text/plain": [
              "tensor([1, 2, 3])"
            ]
          },
          "metadata": {},
          "execution_count": 98
        }
      ]
    },
    {
      "cell_type": "code",
      "source": [
        "new=torch.mm(newshort,newshort)\n",
        "new"
      ],
      "metadata": {
        "id": "vw6W_sCZj9_K",
        "colab": {
          "base_uri": "https://localhost:8080/",
          "height": 164
        },
        "outputId": "cbf09df0-d913-4d52-d2a9-b036163529de"
      },
      "execution_count": null,
      "outputs": [
        {
          "output_type": "error",
          "ename": "RuntimeError",
          "evalue": "self must be a matrix",
          "traceback": [
            "\u001b[0;31m---------------------------------------------------------------------------\u001b[0m",
            "\u001b[0;31mRuntimeError\u001b[0m                              Traceback (most recent call last)",
            "\u001b[0;32m/tmp/ipython-input-99-16561342.py\u001b[0m in \u001b[0;36m<cell line: 0>\u001b[0;34m()\u001b[0m\n\u001b[0;32m----> 1\u001b[0;31m \u001b[0mnew\u001b[0m\u001b[0;34m=\u001b[0m\u001b[0mtorch\u001b[0m\u001b[0;34m.\u001b[0m\u001b[0mmm\u001b[0m\u001b[0;34m(\u001b[0m\u001b[0mnewshort\u001b[0m\u001b[0;34m,\u001b[0m\u001b[0mnewshort\u001b[0m\u001b[0;34m)\u001b[0m\u001b[0;34m\u001b[0m\u001b[0;34m\u001b[0m\u001b[0m\n\u001b[0m\u001b[1;32m      2\u001b[0m \u001b[0mnew\u001b[0m\u001b[0;34m\u001b[0m\u001b[0;34m\u001b[0m\u001b[0m\n",
            "\u001b[0;31mRuntimeError\u001b[0m: self must be a matrix"
          ]
        }
      ]
    },
    {
      "cell_type": "code",
      "source": [
        "MATRIX_A=torch.tensor([[1,2],[2,3]])\n",
        "MATRIX_B=torch.tensor([[1,2],[2,3]])\n",
        "\n",
        "result=torch.mm(MATRIX_A,MATRIX_B)\n",
        "result"
      ],
      "metadata": {
        "id": "B3FclUiyj-B5",
        "colab": {
          "base_uri": "https://localhost:8080/"
        },
        "outputId": "28d0becd-ae72-4866-ea42-99425dd291e6"
      },
      "execution_count": null,
      "outputs": [
        {
          "output_type": "execute_result",
          "data": {
            "text/plain": [
              "tensor([[ 5,  8],\n",
              "        [ 8, 13]])"
            ]
          },
          "metadata": {},
          "execution_count": 100
        }
      ]
    },
    {
      "cell_type": "code",
      "source": [
        "MATRIX_A=torch.tensor([[1,2],[2,3],[3,4]])\n",
        "MATRIX_B=torch.tensor([[1,2],[2,3],[3,4]]).T\n",
        "\n",
        "res=torch.matmul(MATRIX_A,MATRIX_B)\n",
        "res"
      ],
      "metadata": {
        "id": "65qsrwS2j-E8",
        "colab": {
          "base_uri": "https://localhost:8080/"
        },
        "outputId": "fe3485ad-fc1d-4ed8-c4ca-736eceddcc6e"
      },
      "execution_count": null,
      "outputs": [
        {
          "output_type": "execute_result",
          "data": {
            "text/plain": [
              "tensor([[ 5,  8, 11],\n",
              "        [ 8, 13, 18],\n",
              "        [11, 18, 25]])"
            ]
          },
          "metadata": {},
          "execution_count": 101
        }
      ]
    },
    {
      "cell_type": "code",
      "source": [
        "MATRIX_A.shape,MATRIX_B.shape"
      ],
      "metadata": {
        "id": "LonB-Ybxj-Hq",
        "colab": {
          "base_uri": "https://localhost:8080/"
        },
        "outputId": "bcadd6f7-0c24-4702-bc22-62af01513d75"
      },
      "execution_count": null,
      "outputs": [
        {
          "output_type": "execute_result",
          "data": {
            "text/plain": [
              "(torch.Size([3, 2]), torch.Size([2, 3]))"
            ]
          },
          "metadata": {},
          "execution_count": 102
        }
      ]
    },
    {
      "cell_type": "code",
      "source": [
        "datanew=torch.arange(1,20,2)\n",
        "datanew"
      ],
      "metadata": {
        "id": "VGmlSTr0j-K-",
        "colab": {
          "base_uri": "https://localhost:8080/"
        },
        "outputId": "c43421d5-132f-47c7-eba5-3361de95ae2e"
      },
      "execution_count": null,
      "outputs": [
        {
          "output_type": "execute_result",
          "data": {
            "text/plain": [
              "tensor([ 1,  3,  5,  7,  9, 11, 13, 15, 17, 19])"
            ]
          },
          "metadata": {},
          "execution_count": 103
        }
      ]
    },
    {
      "cell_type": "code",
      "source": [
        "datanew.argwhere()"
      ],
      "metadata": {
        "id": "8Ui2POQ2j-NZ",
        "colab": {
          "base_uri": "https://localhost:8080/"
        },
        "outputId": "8f82026c-000b-43c4-e8d8-94159321af8f"
      },
      "execution_count": null,
      "outputs": [
        {
          "output_type": "execute_result",
          "data": {
            "text/plain": [
              "tensor([[0],\n",
              "        [1],\n",
              "        [2],\n",
              "        [3],\n",
              "        [4],\n",
              "        [5],\n",
              "        [6],\n",
              "        [7],\n",
              "        [8],\n",
              "        [9]])"
            ]
          },
          "metadata": {},
          "execution_count": 104
        }
      ]
    },
    {
      "cell_type": "code",
      "source": [
        "x=torch.arange(1,11)\n",
        "x"
      ],
      "metadata": {
        "id": "lNK9vA0ej-P-",
        "colab": {
          "base_uri": "https://localhost:8080/"
        },
        "outputId": "4c6349b7-53ce-444e-9188-610a719cc355"
      },
      "execution_count": null,
      "outputs": [
        {
          "output_type": "execute_result",
          "data": {
            "text/plain": [
              "tensor([ 1,  2,  3,  4,  5,  6,  7,  8,  9, 10])"
            ]
          },
          "metadata": {},
          "execution_count": 105
        }
      ]
    },
    {
      "cell_type": "code",
      "source": [
        "y=x.reshape(5,2)\n",
        "y"
      ],
      "metadata": {
        "id": "tW2liBnAj-S5",
        "colab": {
          "base_uri": "https://localhost:8080/"
        },
        "outputId": "4cdf7fe1-7f15-4266-e774-e29db8de3d57"
      },
      "execution_count": null,
      "outputs": [
        {
          "output_type": "execute_result",
          "data": {
            "text/plain": [
              "tensor([[ 1,  2],\n",
              "        [ 3,  4],\n",
              "        [ 5,  6],\n",
              "        [ 7,  8],\n",
              "        [ 9, 10]])"
            ]
          },
          "metadata": {},
          "execution_count": 106
        }
      ]
    },
    {
      "cell_type": "code",
      "source": [
        "x"
      ],
      "metadata": {
        "id": "wtNwxFA_j-Vb",
        "colab": {
          "base_uri": "https://localhost:8080/"
        },
        "outputId": "4c90948f-e4b5-4cae-dc50-9cefd267bc1d"
      },
      "execution_count": null,
      "outputs": [
        {
          "output_type": "execute_result",
          "data": {
            "text/plain": [
              "tensor([ 1,  2,  3,  4,  5,  6,  7,  8,  9, 10])"
            ]
          },
          "metadata": {},
          "execution_count": 107
        }
      ]
    },
    {
      "cell_type": "code",
      "source": [
        "z=x.view(10)\n",
        "z"
      ],
      "metadata": {
        "id": "T3T5BP2Rj-YR",
        "colab": {
          "base_uri": "https://localhost:8080/"
        },
        "outputId": "ba9233d1-8b3a-4bb6-aece-ea50a8265a39"
      },
      "execution_count": null,
      "outputs": [
        {
          "output_type": "execute_result",
          "data": {
            "text/plain": [
              "tensor([ 1,  2,  3,  4,  5,  6,  7,  8,  9, 10])"
            ]
          },
          "metadata": {},
          "execution_count": 108
        }
      ]
    },
    {
      "cell_type": "code",
      "source": [
        "z[0]=10\n",
        "z"
      ],
      "metadata": {
        "id": "BMqYEr76j-bt",
        "colab": {
          "base_uri": "https://localhost:8080/"
        },
        "outputId": "ba20d5fb-1778-4827-80d8-4bca6d3bc01c"
      },
      "execution_count": null,
      "outputs": [
        {
          "output_type": "execute_result",
          "data": {
            "text/plain": [
              "tensor([10,  2,  3,  4,  5,  6,  7,  8,  9, 10])"
            ]
          },
          "metadata": {},
          "execution_count": 109
        }
      ]
    },
    {
      "cell_type": "code",
      "source": [
        "e=x\n",
        "e"
      ],
      "metadata": {
        "id": "WH2Jhvl3j-ed",
        "colab": {
          "base_uri": "https://localhost:8080/"
        },
        "outputId": "c3a9afbe-da33-45ae-92a4-031b859d6cf7"
      },
      "execution_count": null,
      "outputs": [
        {
          "output_type": "execute_result",
          "data": {
            "text/plain": [
              "tensor([10,  2,  3,  4,  5,  6,  7,  8,  9, 10])"
            ]
          },
          "metadata": {},
          "execution_count": 110
        }
      ]
    },
    {
      "cell_type": "code",
      "source": [
        "e[0]=0\n",
        "e\n"
      ],
      "metadata": {
        "id": "W_ENEE6Cj-hR",
        "colab": {
          "base_uri": "https://localhost:8080/"
        },
        "outputId": "d83e4c37-60e5-4661-98f7-d96ed2c82e46"
      },
      "execution_count": null,
      "outputs": [
        {
          "output_type": "execute_result",
          "data": {
            "text/plain": [
              "tensor([ 0,  2,  3,  4,  5,  6,  7,  8,  9, 10])"
            ]
          },
          "metadata": {},
          "execution_count": 111
        }
      ]
    },
    {
      "cell_type": "code",
      "source": [
        "x"
      ],
      "metadata": {
        "id": "f8VMo71Dj-jq",
        "colab": {
          "base_uri": "https://localhost:8080/"
        },
        "outputId": "27ec47f6-1873-4e14-f857-e33541693c1a"
      },
      "execution_count": null,
      "outputs": [
        {
          "output_type": "execute_result",
          "data": {
            "text/plain": [
              "tensor([ 0,  2,  3,  4,  5,  6,  7,  8,  9, 10])"
            ]
          },
          "metadata": {},
          "execution_count": 112
        }
      ]
    },
    {
      "cell_type": "code",
      "source": [
        "f=x.copy()\n",
        "f"
      ],
      "metadata": {
        "id": "2CWe7aotj-mp",
        "colab": {
          "base_uri": "https://localhost:8080/",
          "height": 164
        },
        "outputId": "da7745eb-8383-4182-8627-c14ac8bbd90b"
      },
      "execution_count": null,
      "outputs": [
        {
          "output_type": "error",
          "ename": "AttributeError",
          "evalue": "'Tensor' object has no attribute 'copy'",
          "traceback": [
            "\u001b[0;31m---------------------------------------------------------------------------\u001b[0m",
            "\u001b[0;31mAttributeError\u001b[0m                            Traceback (most recent call last)",
            "\u001b[0;32m/tmp/ipython-input-113-1505169814.py\u001b[0m in \u001b[0;36m<cell line: 0>\u001b[0;34m()\u001b[0m\n\u001b[0;32m----> 1\u001b[0;31m \u001b[0mf\u001b[0m\u001b[0;34m=\u001b[0m\u001b[0mx\u001b[0m\u001b[0;34m.\u001b[0m\u001b[0mcopy\u001b[0m\u001b[0;34m(\u001b[0m\u001b[0;34m)\u001b[0m\u001b[0;34m\u001b[0m\u001b[0;34m\u001b[0m\u001b[0m\n\u001b[0m\u001b[1;32m      2\u001b[0m \u001b[0mf\u001b[0m\u001b[0;34m\u001b[0m\u001b[0;34m\u001b[0m\u001b[0m\n",
            "\u001b[0;31mAttributeError\u001b[0m: 'Tensor' object has no attribute 'copy'"
          ]
        }
      ]
    },
    {
      "cell_type": "code",
      "source": [
        "f[0]=100\n",
        "f"
      ],
      "metadata": {
        "id": "0anz8ei6j-pe"
      },
      "execution_count": null,
      "outputs": []
    },
    {
      "cell_type": "code",
      "source": [
        "x"
      ],
      "metadata": {
        "id": "socgNEyAj-tZ",
        "colab": {
          "base_uri": "https://localhost:8080/"
        },
        "outputId": "bf8e35b3-3639-4666-f9cb-dbb26bdc07ad"
      },
      "execution_count": null,
      "outputs": [
        {
          "output_type": "execute_result",
          "data": {
            "text/plain": [
              "tensor([ 0,  2,  3,  4,  5,  6,  7,  8,  9, 10])"
            ]
          },
          "metadata": {},
          "execution_count": 114
        }
      ]
    },
    {
      "cell_type": "code",
      "source": [
        "stckdata=torch.stack([x],dim=0)\n",
        "stckdata"
      ],
      "metadata": {
        "id": "fryFW7Wgj-vK",
        "colab": {
          "base_uri": "https://localhost:8080/"
        },
        "outputId": "889ab2f8-2a06-471c-93df-51a192a23816"
      },
      "execution_count": null,
      "outputs": [
        {
          "output_type": "execute_result",
          "data": {
            "text/plain": [
              "tensor([[ 0,  2,  3,  4,  5,  6,  7,  8,  9, 10]])"
            ]
          },
          "metadata": {},
          "execution_count": 115
        }
      ]
    },
    {
      "cell_type": "code",
      "source": [
        "stckdata=stckdata.squeeze()\n",
        "stckdata"
      ],
      "metadata": {
        "id": "3TEQdZQej-x_",
        "colab": {
          "base_uri": "https://localhost:8080/"
        },
        "outputId": "a0169bea-ae7e-4bd0-cf5f-38af124752ed"
      },
      "execution_count": null,
      "outputs": [
        {
          "output_type": "execute_result",
          "data": {
            "text/plain": [
              "tensor([ 0,  2,  3,  4,  5,  6,  7,  8,  9, 10])"
            ]
          },
          "metadata": {},
          "execution_count": 116
        }
      ]
    },
    {
      "cell_type": "code",
      "source": [
        "stckdata=stckdata.unsqueeze(dim=0)\n",
        "stckdata"
      ],
      "metadata": {
        "id": "0IOGYRe2j-1P",
        "colab": {
          "base_uri": "https://localhost:8080/"
        },
        "outputId": "a7b15cea-78a1-4e31-c862-4ac6da7cd806"
      },
      "execution_count": null,
      "outputs": [
        {
          "output_type": "execute_result",
          "data": {
            "text/plain": [
              "tensor([[ 0,  2,  3,  4,  5,  6,  7,  8,  9, 10]])"
            ]
          },
          "metadata": {},
          "execution_count": 117
        }
      ]
    },
    {
      "cell_type": "code",
      "source": [
        "newdata=torch.tensor([[[1,2,3]]])\n",
        "newdata"
      ],
      "metadata": {
        "id": "mpt7gaWWj-4b",
        "colab": {
          "base_uri": "https://localhost:8080/"
        },
        "outputId": "f19069ae-5d5a-4196-e52d-fe9c274d9a3c"
      },
      "execution_count": null,
      "outputs": [
        {
          "output_type": "execute_result",
          "data": {
            "text/plain": [
              "tensor([[[1, 2, 3]]])"
            ]
          },
          "metadata": {},
          "execution_count": 118
        }
      ]
    },
    {
      "cell_type": "code",
      "source": [
        "# Create tensor with specific shape\n",
        "x_original = newdata\n",
        "\n",
        "# Permute the original tensor to rearrange the axis order\n",
        "x_permuted = x_original.permute(2, 0, 1) # shifts axis 0->1, 1->2, 2->0\n",
        "\n",
        "print(f\"Previous shape: {x_original.shape}\")\n",
        "print(f\"New shape: {x_permuted.shape}\")"
      ],
      "metadata": {
        "id": "qrmrYVS1j-6j",
        "colab": {
          "base_uri": "https://localhost:8080/"
        },
        "outputId": "bc2cb3e0-8cba-41b8-ef93-fbd399bfc2a3"
      },
      "execution_count": null,
      "outputs": [
        {
          "output_type": "stream",
          "name": "stdout",
          "text": [
            "Previous shape: torch.Size([1, 1, 3])\n",
            "New shape: torch.Size([3, 1, 1])\n"
          ]
        }
      ]
    },
    {
      "cell_type": "code",
      "source": [
        "newdata[0][0][0]"
      ],
      "metadata": {
        "id": "wbtlA6gAj-9X",
        "colab": {
          "base_uri": "https://localhost:8080/"
        },
        "outputId": "d56616ad-06f0-4d09-de50-f31f7795f2c5"
      },
      "execution_count": null,
      "outputs": [
        {
          "output_type": "execute_result",
          "data": {
            "text/plain": [
              "tensor(1)"
            ]
          },
          "metadata": {},
          "execution_count": 120
        }
      ]
    },
    {
      "cell_type": "code",
      "source": [
        "newdata[0][0][:]"
      ],
      "metadata": {
        "id": "ktOZkJ8Tj_Aj",
        "colab": {
          "base_uri": "https://localhost:8080/"
        },
        "outputId": "41f556c4-bcc2-4e3c-bf9c-13275f79e5e9"
      },
      "execution_count": null,
      "outputs": [
        {
          "output_type": "execute_result",
          "data": {
            "text/plain": [
              "tensor([1, 2, 3])"
            ]
          },
          "metadata": {},
          "execution_count": 121
        }
      ]
    },
    {
      "cell_type": "code",
      "source": [
        "newdata[0,0,0]"
      ],
      "metadata": {
        "id": "kxGOlQB2j_DN",
        "colab": {
          "base_uri": "https://localhost:8080/"
        },
        "outputId": "03a63712-4b7b-4d82-ccfe-ce139f29f984"
      },
      "execution_count": null,
      "outputs": [
        {
          "output_type": "execute_result",
          "data": {
            "text/plain": [
              "tensor(1)"
            ]
          },
          "metadata": {},
          "execution_count": 122
        }
      ]
    },
    {
      "cell_type": "code",
      "source": [
        "data"
      ],
      "metadata": {
        "id": "37YiDZ3Cj_GA",
        "colab": {
          "base_uri": "https://localhost:8080/"
        },
        "outputId": "54cb624a-8df0-45cd-bbac-1956f32d9e96"
      },
      "execution_count": null,
      "outputs": [
        {
          "output_type": "execute_result",
          "data": {
            "text/plain": [
              "tensor(14)"
            ]
          },
          "metadata": {},
          "execution_count": 123
        }
      ]
    },
    {
      "cell_type": "code",
      "source": [
        "x"
      ],
      "metadata": {
        "id": "pzmwm7UYj_JI",
        "colab": {
          "base_uri": "https://localhost:8080/"
        },
        "outputId": "58cdec88-4f08-4191-8be2-b3500586d3db"
      },
      "execution_count": null,
      "outputs": [
        {
          "output_type": "execute_result",
          "data": {
            "text/plain": [
              "tensor([ 0,  2,  3,  4,  5,  6,  7,  8,  9, 10])"
            ]
          },
          "metadata": {},
          "execution_count": 124
        }
      ]
    },
    {
      "cell_type": "code",
      "source": [
        "newdata=torch.arange(1,11)\n",
        "newnumpy=newdata.numpy()\n",
        "newnumpy"
      ],
      "metadata": {
        "id": "FIgkS7ECj_L0",
        "colab": {
          "base_uri": "https://localhost:8080/"
        },
        "outputId": "6d2fc986-b06c-45d2-8dde-85e14ad25995"
      },
      "execution_count": null,
      "outputs": [
        {
          "output_type": "execute_result",
          "data": {
            "text/plain": [
              "array([ 1,  2,  3,  4,  5,  6,  7,  8,  9, 10])"
            ]
          },
          "metadata": {},
          "execution_count": 125
        }
      ]
    },
    {
      "cell_type": "code",
      "source": [
        "newnumpy.dtype"
      ],
      "metadata": {
        "id": "QV4OeJ6Dj_Oe",
        "colab": {
          "base_uri": "https://localhost:8080/"
        },
        "outputId": "e3055a86-d255-4fb1-8a33-dade089514e4"
      },
      "execution_count": null,
      "outputs": [
        {
          "output_type": "execute_result",
          "data": {
            "text/plain": [
              "dtype('int64')"
            ]
          },
          "metadata": {},
          "execution_count": 126
        }
      ]
    },
    {
      "cell_type": "code",
      "source": [
        "newtorch=torch.from_numpy(newnumpy)\n",
        "newtorch.dtype"
      ],
      "metadata": {
        "id": "AiGg4JHRj_RI",
        "colab": {
          "base_uri": "https://localhost:8080/"
        },
        "outputId": "b947c439-6114-437c-d268-80c8870e84a9"
      },
      "execution_count": null,
      "outputs": [
        {
          "output_type": "execute_result",
          "data": {
            "text/plain": [
              "torch.int64"
            ]
          },
          "metadata": {},
          "execution_count": 127
        }
      ]
    },
    {
      "cell_type": "code",
      "source": [
        "data1=torch.rand(2,3)\n",
        "data2=torch.rand(2,3)\n",
        "data1,data2,data1==data2"
      ],
      "metadata": {
        "id": "PZABLlQTj_T8",
        "colab": {
          "base_uri": "https://localhost:8080/"
        },
        "outputId": "817171b0-3595-4bc9-b4d3-e78b737fb933"
      },
      "execution_count": null,
      "outputs": [
        {
          "output_type": "execute_result",
          "data": {
            "text/plain": [
              "(tensor([[0.1637, 0.7025, 0.6790],\n",
              "         [0.9155, 0.2418, 0.1591]]),\n",
              " tensor([[0.7653, 0.2979, 0.8035],\n",
              "         [0.3813, 0.7860, 0.1115]]),\n",
              " tensor([[False, False, False],\n",
              "         [False, False, False]]))"
            ]
          },
          "metadata": {},
          "execution_count": 128
        }
      ]
    },
    {
      "cell_type": "code",
      "source": [],
      "metadata": {
        "id": "66al-ksEvcDH"
      },
      "execution_count": null,
      "outputs": []
    },
    {
      "cell_type": "markdown",
      "source": [],
      "metadata": {
        "id": "JtEg3xZnvdf6"
      }
    },
    {
      "cell_type": "markdown",
      "source": [],
      "metadata": {
        "id": "WymbZebpxGKY"
      }
    },
    {
      "cell_type": "markdown",
      "source": [
        "# radomseed\n",
        "the seed 42 is just a number we can use anynumber but anynumber changing gives diff ouput but same number gives constant ouput every time. we can use 10,12,34,223,anything but 42 is used like only like every thing has a some number for popular so for this they choose 42"
      ],
      "metadata": {
        "id": "X0ot47SGvbJV"
      }
    },
    {
      "cell_type": "code",
      "source": [
        "import random\n",
        "RANDOM_SEED=15\n",
        "torch.manual_seed(seed=RANDOM_SEED)\n",
        "data1=torch.rand(2,3)\n",
        "\n",
        "torch.random.manual_seed(seed=RANDOM_SEED)\n",
        "data2=torch.rand(2,3)\n",
        "\n",
        "data1,data2,data1==data2"
      ],
      "metadata": {
        "id": "e6dkiQ-aj_WX",
        "colab": {
          "base_uri": "https://localhost:8080/"
        },
        "outputId": "295b61d3-4f20-4d08-a6e2-005c9c64088a"
      },
      "execution_count": null,
      "outputs": [
        {
          "output_type": "execute_result",
          "data": {
            "text/plain": [
              "(tensor([[0.2973, 0.2766, 0.7974],\n",
              "         [0.3869, 0.9170, 0.4125]]),\n",
              " tensor([[0.2973, 0.2766, 0.7974],\n",
              "         [0.3869, 0.9170, 0.4125]]),\n",
              " tensor([[True, True, True],\n",
              "         [True, True, True]]))"
            ]
          },
          "metadata": {},
          "execution_count": 129
        }
      ]
    },
    {
      "cell_type": "markdown",
      "source": [
        "# EXCERSICE-1"
      ],
      "metadata": {
        "id": "PFA7DS1_wE8z"
      }
    },
    {
      "cell_type": "code",
      "source": [
        "ex1=torch.rand(7,7)\n",
        "ex1\n"
      ],
      "metadata": {
        "id": "ghbSDHBPj_ZN",
        "colab": {
          "base_uri": "https://localhost:8080/"
        },
        "outputId": "f2d3f287-6f02-4e82-dc10-a9bf3bc7e0fa"
      },
      "execution_count": null,
      "outputs": [
        {
          "output_type": "execute_result",
          "data": {
            "text/plain": [
              "tensor([[0.5538, 0.5646, 0.5026, 0.2206, 0.6801, 0.3880, 0.3152],\n",
              "        [0.5083, 0.9454, 0.3008, 0.6058, 0.2999, 0.9741, 0.3419],\n",
              "        [0.9133, 0.3189, 0.6216, 0.5164, 0.7501, 0.0260, 0.6230],\n",
              "        [0.0179, 0.6123, 0.1320, 0.9009, 0.3873, 0.8142, 0.7147],\n",
              "        [0.9568, 0.3093, 0.0921, 0.8494, 0.2591, 0.0980, 0.6271],\n",
              "        [0.7981, 0.4335, 0.3435, 0.6906, 0.3747, 0.2095, 0.5280],\n",
              "        [0.4871, 0.0597, 0.9298, 0.3724, 0.0183, 0.2798, 0.0638]])"
            ]
          },
          "metadata": {},
          "execution_count": 130
        }
      ]
    },
    {
      "cell_type": "markdown",
      "source": [
        "# in short randomseed with torch\n",
        "torch.manual_seed(seed=value)"
      ],
      "metadata": {
        "id": "tiiP8elrzPDi"
      }
    },
    {
      "cell_type": "code",
      "source": [
        "torch.manual_seed(seed=12)\n",
        "data1=torch.rand(1,2)\n",
        "torch.manual_seed(seed=12)\n",
        "data2=torch.rand(1,2)\n",
        "data1,data2,data1==data2"
      ],
      "metadata": {
        "id": "LlstBiyEj_go",
        "colab": {
          "base_uri": "https://localhost:8080/"
        },
        "outputId": "9ddf482d-dad2-4340-bc71-2ce9b680581a"
      },
      "execution_count": null,
      "outputs": [
        {
          "output_type": "execute_result",
          "data": {
            "text/plain": [
              "(tensor([[0.4657, 0.2328]]),\n",
              " tensor([[0.4657, 0.2328]]),\n",
              " tensor([[True, True]]))"
            ]
          },
          "metadata": {},
          "execution_count": 131
        }
      ]
    },
    {
      "cell_type": "markdown",
      "source": [
        "#PYTHON WORKFLOW\n"
      ],
      "metadata": {
        "id": "BxiaIduBWjAr"
      }
    },
    {
      "cell_type": "code",
      "source": [
        "weight=0.7\n",
        "bias=0.3\n",
        "start=0\n",
        "end=2\n",
        "skip=0.02\n",
        "import torch\n",
        "data=torch.arange(start,end,skip).unsqueeze(dim=1)\n",
        "x=data\n",
        "y=weight*x+bias\n",
        "\n",
        "x[:10],y[:10]"
      ],
      "metadata": {
        "id": "GuCFo7QDj_kX",
        "colab": {
          "base_uri": "https://localhost:8080/"
        },
        "outputId": "36632909-ddb7-491e-e58b-417e5ab93dde"
      },
      "execution_count": null,
      "outputs": [
        {
          "output_type": "execute_result",
          "data": {
            "text/plain": [
              "(tensor([[0.0000],\n",
              "         [0.0200],\n",
              "         [0.0400],\n",
              "         [0.0600],\n",
              "         [0.0800],\n",
              "         [0.1000],\n",
              "         [0.1200],\n",
              "         [0.1400],\n",
              "         [0.1600],\n",
              "         [0.1800]]),\n",
              " tensor([[0.3000],\n",
              "         [0.3140],\n",
              "         [0.3280],\n",
              "         [0.3420],\n",
              "         [0.3560],\n",
              "         [0.3700],\n",
              "         [0.3840],\n",
              "         [0.3980],\n",
              "         [0.4120],\n",
              "         [0.4260]]))"
            ]
          },
          "metadata": {},
          "execution_count": 132
        }
      ]
    },
    {
      "cell_type": "code",
      "source": [
        "split=int(0.8*len(x))\n",
        "x_train,y_train=x[:split],y[:split]\n",
        "x_test,y_test=x[split:],y[split:]\n",
        "len(x_train),len(y_train),len(x_test),len(y_test)"
      ],
      "metadata": {
        "id": "JIa2yj0Qj_m-",
        "colab": {
          "base_uri": "https://localhost:8080/"
        },
        "outputId": "311c7081-58c6-4ba1-f7cc-8eff94262f3d"
      },
      "execution_count": null,
      "outputs": [
        {
          "output_type": "execute_result",
          "data": {
            "text/plain": [
              "(80, 80, 20, 20)"
            ]
          },
          "metadata": {},
          "execution_count": 133
        }
      ]
    },
    {
      "cell_type": "code",
      "source": [
        "from matplotlib import pyplot as plt\n",
        "def plot_data(train_data=x_train,train_labels=y_train,test_data=x_test,test_labels=y_test,predictions=None):\n",
        "  plt.figure(figsize=(6,6))\n",
        "  plt.scatter(train_data,train_labels,c=\"b\",s=4,label=\"training_data\")\n",
        "  plt.scatter(test_data,test_labels,c=\"y\",s=4,label=\"training_data\")\n",
        "\n",
        "  if predictions is not None:\n",
        "    plt.scatter(test_data,predictions,c=\"r\",s=4,label=\"training_data\")\n",
        "  plt.legend()\n",
        "\n",
        "\n"
      ],
      "metadata": {
        "id": "_WCSUL0Kj_pb"
      },
      "execution_count": null,
      "outputs": []
    },
    {
      "cell_type": "code",
      "source": [
        "plot_data()"
      ],
      "metadata": {
        "id": "9tDBdEB0j_sO",
        "colab": {
          "base_uri": "https://localhost:8080/",
          "height": 522
        },
        "outputId": "e3619b0c-1ea3-462a-e071-1dd8acd88b4c"
      },
      "execution_count": null,
      "outputs": [
        {
          "output_type": "display_data",
          "data": {
            "text/plain": [
              "<Figure size 600x600 with 1 Axes>"
            ],
            "image/png": "[encoded data removed]"
          },
          "metadata": {}
        }
      ]
    },
    {
      "cell_type": "code",
      "source": [
        "import torch\n",
        "from torch import nn"
      ],
      "metadata": {
        "id": "DhFf2PiAj_vF"
      },
      "execution_count": null,
      "outputs": []
    },
    {
      "cell_type": "code",
      "source": [
        "class LinearRegressionModel(nn.Module):\n",
        "  def __init__(self):\n",
        "    super().__init__()\n",
        "    self.weight=nn.Parameter(torch.randn(1,\n",
        "                             dtype=torch.float),\n",
        "                             requires_grad=True)\n",
        "    self.bais=nn.Parameter(torch.randn(1,\n",
        "                           dtype=torch.float),\n",
        "                           requires_grad=True)\n",
        "  def forward(self,x:torch.Tensor)->torch.Tensor:\n",
        "    return self.weight*x+self.bais\n",
        "\n"
      ],
      "metadata": {
        "id": "hSSF-AoFj_yS"
      },
      "execution_count": null,
      "outputs": []
    },
    {
      "cell_type": "code",
      "source": [
        "torch.manual_seed(seed=42)\n",
        "\n",
        "model_0=LinearRegressionModel()\n",
        "list(model_0.parameters())\n",
        "model_0.state_dict()"
      ],
      "metadata": {
        "id": "_hu6C_8Mj_03",
        "colab": {
          "base_uri": "https://localhost:8080/"
        },
        "outputId": "c67214dc-698e-4900-bd26-54d4ea16a548"
      },
      "execution_count": null,
      "outputs": [
        {
          "output_type": "execute_result",
          "data": {
            "text/plain": [
              "OrderedDict([('weight', tensor([0.3367])), ('bais', tensor([0.1288]))])"
            ]
          },
          "metadata": {},
          "execution_count": 138
        }
      ]
    },
    {
      "cell_type": "code",
      "source": [
        "with torch.inference_mode():\n",
        "  ypred=model_0(x_test)\n",
        "\n",
        "  ypred"
      ],
      "metadata": {
        "id": "knaVPrtzj_3l"
      },
      "execution_count": null,
      "outputs": []
    },
    {
      "cell_type": "code",
      "source": [
        "print(ypred)"
      ],
      "metadata": {
        "id": "N0xxhpPLj_6z",
        "colab": {
          "base_uri": "https://localhost:8080/"
        },
        "outputId": "e4d9c66d-14ff-4e63-bcef-41a003bfd10b"
      },
      "execution_count": null,
      "outputs": [
        {
          "output_type": "stream",
          "name": "stdout",
          "text": [
            "tensor([[0.6675],\n",
            "        [0.6742],\n",
            "        [0.6810],\n",
            "        [0.6877],\n",
            "        [0.6944],\n",
            "        [0.7012],\n",
            "        [0.7079],\n",
            "        [0.7147],\n",
            "        [0.7214],\n",
            "        [0.7281],\n",
            "        [0.7349],\n",
            "        [0.7416],\n",
            "        [0.7483],\n",
            "        [0.7551],\n",
            "        [0.7618],\n",
            "        [0.7685],\n",
            "        [0.7753],\n",
            "        [0.7820],\n",
            "        [0.7887],\n",
            "        [0.7955]])\n"
          ]
        }
      ]
    },
    {
      "cell_type": "code",
      "source": [
        "print(y_test)"
      ],
      "metadata": {
        "id": "pkH9-ZRqj_9q",
        "colab": {
          "base_uri": "https://localhost:8080/"
        },
        "outputId": "05696f1c-415b-43f0-eb18-f92381e85f12"
      },
      "execution_count": null,
      "outputs": [
        {
          "output_type": "stream",
          "name": "stdout",
          "text": [
            "tensor([[1.4200],\n",
            "        [1.4340],\n",
            "        [1.4480],\n",
            "        [1.4620],\n",
            "        [1.4760],\n",
            "        [1.4900],\n",
            "        [1.5040],\n",
            "        [1.5180],\n",
            "        [1.5320],\n",
            "        [1.5460],\n",
            "        [1.5600],\n",
            "        [1.5740],\n",
            "        [1.5880],\n",
            "        [1.6020],\n",
            "        [1.6160],\n",
            "        [1.6300],\n",
            "        [1.6440],\n",
            "        [1.6580],\n",
            "        [1.6720],\n",
            "        [1.6860]])\n"
          ]
        }
      ]
    },
    {
      "cell_type": "code",
      "source": [
        "plot_data(predictions=ypred)"
      ],
      "metadata": {
        "id": "0XRr13KakAAb",
        "colab": {
          "base_uri": "https://localhost:8080/",
          "height": 522
        },
        "outputId": "885069ce-b721-4951-ce96-8d5bd8a14380"
      },
      "execution_count": null,
      "outputs": [
        {
          "output_type": "display_data",
          "data": {
            "text/plain": [
              "<Figure size 600x600 with 1 Axes>"
            ],
            "image/png": "[encoded data removed]"
          },
          "metadata": {}
        }
      ]
    },
    {
      "cell_type": "code",
      "source": [],
      "metadata": {
        "id": "LvlEqpFykADj"
      },
      "execution_count": null,
      "outputs": []
    },
    {
      "cell_type": "code",
      "source": [],
      "metadata": {
        "id": "v3p18aUwkAGJ"
      },
      "execution_count": null,
      "outputs": []
    },
    {
      "cell_type": "code",
      "source": [],
      "metadata": {
        "id": "doduU2oukAI7"
      },
      "execution_count": null,
      "outputs": []
    },
    {
      "cell_type": "code",
      "source": [],
      "metadata": {
        "id": "AY0H8VuUkAMa"
      },
      "execution_count": null,
      "outputs": []
    },
    {
      "cell_type": "code",
      "source": [],
      "metadata": {
        "id": "Da4FMxKdkAOp"
      },
      "execution_count": null,
      "outputs": []
    },
    {
      "cell_type": "code",
      "source": [],
      "metadata": {
        "id": "-x78V5s-kAQ_"
      },
      "execution_count": null,
      "outputs": []
    },
    {
      "cell_type": "code",
      "source": [],
      "metadata": {
        "id": "R68L_oddkATs"
      },
      "execution_count": null,
      "outputs": []
    },
    {
      "cell_type": "code",
      "source": [],
      "metadata": {
        "id": "_sTi0XgskAWY"
      },
      "execution_count": null,
      "outputs": []
    },
    {
      "cell_type": "code",
      "source": [],
      "metadata": {
        "id": "NlsWhuVykAZ-"
      },
      "execution_count": null,
      "outputs": []
    },
    {
      "cell_type": "code",
      "source": [],
      "metadata": {
        "id": "c1atuaTeh2zl"
      },
      "execution_count": null,
      "outputs": []
    }
  ]
}